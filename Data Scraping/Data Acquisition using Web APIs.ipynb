{
 "cells": [
  {
   "cell_type": "markdown",
   "metadata": {},
   "source": [
    "# Data Acquistion - APIs\n",
    "* Application Programming Interface - Set of routines running over web server\n",
    "* Connects Application and Database\n",
    "* Specify Data with URL\n",
    "* Retrive data and parse it\n",
    "* API may return data in JSON, XML data format\n",
    "\n",
    "# JSON\n",
    "* Java Script Object Notation\n",
    "* Dictionary like data structure: key value pairs\n",
    "* Keys are string, values can be anything\n",
    "* Easy to read and write\n",
    "\n",
    "# XML\n",
    "* Extensible markup language\n",
    "* Structure similar to XML\n",
    "* Custom tags\n",
    "* No style\n"
   ]
  },
  {
   "cell_type": "markdown",
   "metadata": {},
   "source": [
    "# Types of Requests\n",
    "* GET\n",
    "* POST\n",
    "* DELETE\n",
    "* PUT\n",
    "* PATCH\n"
   ]
  },
  {
   "cell_type": "markdown",
   "metadata": {},
   "source": [
    "urllib \n",
    "\n",
    "requests\n"
   ]
  },
  {
   "cell_type": "code",
   "execution_count": 1,
   "metadata": {},
   "outputs": [],
   "source": [
    "from urllib.request import urlopen"
   ]
  },
  {
   "cell_type": "code",
   "execution_count": null,
   "metadata": {},
   "outputs": [],
   "source": [
    "api_url= "
   ]
  }
 ],
 "metadata": {
  "kernelspec": {
   "display_name": "Python 3",
   "language": "python",
   "name": "python3"
  },
  "language_info": {
   "codemirror_mode": {
    "name": "ipython",
    "version": 3
   },
   "file_extension": ".py",
   "mimetype": "text/x-python",
   "name": "python",
   "nbconvert_exporter": "python",
   "pygments_lexer": "ipython3",
   "version": "3.7.6"
  }
 },
 "nbformat": 4,
 "nbformat_minor": 4
}
